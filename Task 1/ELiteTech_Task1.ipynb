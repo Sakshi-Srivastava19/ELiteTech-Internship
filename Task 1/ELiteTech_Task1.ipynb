{
  "nbformat": 4,
  "nbformat_minor": 0,
  "metadata": {
    "colab": {
      "provenance": []
    },
    "kernelspec": {
      "name": "python3",
      "display_name": "Python 3"
    },
    "language_info": {
      "name": "python"
    }
  },
  "cells": [
    {
      "cell_type": "markdown",
      "source": [
        "# **TASK 1 DATA PIPELINE DEVLOPMENT**\n",
        "\n",
        "**CREATE A PIPELINE FOR DATA PREPROCESSING, TRANSFORMATION, AND\n",
        "LOADING USING TOOLS LIKE PANDAS AND SCIKIT-LEARN**\n",
        "\n"
      ],
      "metadata": {
        "id": "VUxQC1ZyfsTO"
      }
    },
    {
      "cell_type": "markdown",
      "source": [
        "# ETL Pipeline using Pandas and Scikit-learn"
      ],
      "metadata": {
        "id": "B9eK9xN7gpT0"
      }
    },
    {
      "cell_type": "code",
      "source": [
        "# Import Libraries\n",
        "import pandas as pd\n",
        "import numpy as np\n",
        "from sklearn.preprocessing import StandardScaler, LabelEncoder\n",
        "from sklearn.impute import SimpleImputer\n",
        "import os"
      ],
      "metadata": {
        "id": "oFP4Amzbfr5u"
      },
      "execution_count": 1,
      "outputs": []
    },
    {
      "cell_type": "code",
      "source": [
        "# Step 1: Extract (Load the data)\n",
        "def extract_data(file_path):\n",
        "    df = pd.read_csv(file_path)\n",
        "    print(\"Data Loaded Successfully\")\n",
        "    print(\"Shape of data:\", df.shape)\n",
        "    return df"
      ],
      "metadata": {
        "id": "y6BpxRDBgvem"
      },
      "execution_count": 2,
      "outputs": []
    },
    {
      "cell_type": "code",
      "execution_count": 3,
      "metadata": {
        "id": "IXhP3LOxfIN3"
      },
      "outputs": [],
      "source": [
        "# Step 2: Transform (Data Cleaning and Preprocessing)\n",
        "def transform_data(df):\n",
        "    # Handling Missing Values\n",
        "    print(\"Handling Missing Values...\")\n",
        "    imputer = SimpleImputer(strategy='mean')\n",
        "    numeric_cols = df.select_dtypes(include=['int64', 'float64']).columns\n",
        "    df[numeric_cols] = imputer.fit_transform(df[numeric_cols])\n",
        "\n",
        "    # Encoding Categorical Variables\n",
        "    print(\"Encoding Categorical Variables...\")\n",
        "    categorical_cols = df.select_dtypes(include=['object']).columns\n",
        "    le = LabelEncoder()\n",
        "    for col in categorical_cols:\n",
        "        df[col] = le.fit_transform(df[col].astype(str))\n",
        "\n",
        "    # Feature Scaling\n",
        "    print(\"Scaling Numerical Features...\")\n",
        "    scaler = StandardScaler()\n",
        "    df[numeric_cols] = scaler.fit_transform(df[numeric_cols])\n",
        "\n",
        "    return df"
      ]
    },
    {
      "cell_type": "code",
      "source": [
        "# Step 3: Load (Save the transformed data)\n",
        "def load_data(df, output_path):\n",
        "    df.to_csv(output_path, index=False)\n",
        "    print(f\"Transformed data saved to {output_path}\")"
      ],
      "metadata": {
        "id": "hkoht8asg5d6"
      },
      "execution_count": 4,
      "outputs": []
    },
    {
      "cell_type": "code",
      "source": [
        "# Main Pipeline\n",
        "def main():\n",
        "    input_file = '/content/Titanic-Dataset.csv'\n",
        "    output_file = 'transformed_data.csv'\n",
        "\n",
        "    # ETL Process\n",
        "    df = extract_data(input_file)\n",
        "    df_transformed = transform_data(df)\n",
        "    load_data(df_transformed, output_file)\n",
        "\n",
        "if __name__ == \"__main__\":\n",
        "    main()"
      ],
      "metadata": {
        "colab": {
          "base_uri": "https://localhost:8080/"
        },
        "id": "QmJb8h75g_KS",
        "outputId": "77effc35-9b58-4549-9457-78c3805ae791"
      },
      "execution_count": 6,
      "outputs": [
        {
          "output_type": "stream",
          "name": "stdout",
          "text": [
            "Data Loaded Successfully\n",
            "Shape of data: (891, 12)\n",
            "Handling Missing Values...\n",
            "Encoding Categorical Variables...\n",
            "Scaling Numerical Features...\n",
            "Transformed data saved to transformed_data.csv\n"
          ]
        }
      ]
    },
    {
      "cell_type": "code",
      "source": [],
      "metadata": {
        "id": "z1tIjQMOhVo2"
      },
      "execution_count": null,
      "outputs": []
    }
  ]
}