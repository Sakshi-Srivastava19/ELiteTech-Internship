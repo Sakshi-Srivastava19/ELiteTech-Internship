{
  "nbformat": 4,
  "nbformat_minor": 0,
  "metadata": {
    "colab": {
      "provenance": []
    },
    "kernelspec": {
      "name": "python3",
      "display_name": "Python 3"
    },
    "language_info": {
      "name": "python"
    }
  },
  "cells": [
    {
      "cell_type": "markdown",
      "source": [
        "# **TASK 4 OPTIMIZATION MODEL**\n",
        "\n",
        "**SOLVE A BUSINESS PROBLEM USING\n",
        "OPTIMIZATION TECHNIQUES (E.G., LINEAR\n",
        "PROGRAMMING) AND PYTHON LIBRARIES\n",
        "LIKE PULP**"
      ],
      "metadata": {
        "id": "1p-Vln7zysfv"
      }
    },
    {
      "cell_type": "markdown",
      "source": [
        "✅ Project Title:\n",
        "Production Planning Optimization using Linear Programming\n",
        "\n",
        "🔧 Problem Statement:\n",
        "A factory produces 2 products:\n",
        "\n",
        "Product A\n",
        "\n",
        "Product B\n",
        "\n",
        "The factory has limited resources:\n",
        "\n",
        "Resource\t----  Available Hours\n",
        "\n",
        "Machine   ----   1\t40 hours\n",
        "\n",
        "Machine    -----  2\t50 hours\n",
        "\n",
        "Product A requires:\n",
        "\n",
        "1 hour on Machine 1\n",
        "\n",
        "2 hours on Machine 2\n",
        "\n",
        "Product B requires:\n",
        "\n",
        "2 hours on Machine 1\n",
        "\n",
        "1 hour on Machine 2\n",
        "\n",
        "Profit per unit:\n",
        "\n",
        "Product A = $30\n",
        "\n",
        "Product B = $20\n",
        "\n",
        "Goal:\n",
        "Maximize total profit while not exceeding machine capacities.\n",
        "\n"
      ],
      "metadata": {
        "id": "7Q2n9Rn5wSX5"
      }
    },
    {
      "cell_type": "code",
      "source": [
        "pip install pulp"
      ],
      "metadata": {
        "colab": {
          "base_uri": "https://localhost:8080/"
        },
        "id": "RPnzZVj_x75t",
        "outputId": "e7f9ac30-d192-4f06-eca3-cc67f85a9caf"
      },
      "execution_count": 2,
      "outputs": [
        {
          "output_type": "stream",
          "name": "stdout",
          "text": [
            "Collecting pulp\n",
            "  Downloading pulp-3.2.1-py3-none-any.whl.metadata (6.9 kB)\n",
            "Downloading pulp-3.2.1-py3-none-any.whl (16.4 MB)\n",
            "\u001b[2K   \u001b[90m━━━━━━━━━━━━━━━━━━━━━━━━━━━━━━━━━━━━━━━━\u001b[0m \u001b[32m16.4/16.4 MB\u001b[0m \u001b[31m91.7 MB/s\u001b[0m eta \u001b[36m0:00:00\u001b[0m\n",
            "\u001b[?25hInstalling collected packages: pulp\n",
            "Successfully installed pulp-3.2.1\n"
          ]
        }
      ]
    },
    {
      "cell_type": "code",
      "execution_count": 3,
      "metadata": {
        "colab": {
          "base_uri": "https://localhost:8080/"
        },
        "id": "Dv1jx60BtzmP",
        "outputId": "71594b14-f05c-426e-cfc9-c8e5179cb1a3"
      },
      "outputs": [
        {
          "output_type": "stream",
          "name": "stdout",
          "text": [
            "Status: Optimal\n",
            "Produce 20.0 units of Product A\n",
            "Produce 10.0 units of Product B\n",
            "Maximum Profit: $800.0\n"
          ]
        }
      ],
      "source": [
        "# ELiteTech Internship - Task 4: Optimization Model\n",
        "# Production Planning using Linear Programming\n",
        "\n",
        "import pulp\n",
        "\n",
        "# Initialize LP problem: Maximize profit\n",
        "model = pulp.LpProblem(\"Maximize_Profit\", pulp.LpMaximize)\n",
        "\n",
        "# Decision variables\n",
        "A = pulp.LpVariable(\"Product_A\", lowBound=0, cat='Integer')\n",
        "B = pulp.LpVariable(\"Product_B\", lowBound=0, cat='Integer')\n",
        "\n",
        "# Objective function (maximize profit)\n",
        "model += 30*A + 20*B\n",
        "\n",
        "# Constraints\n",
        "model += 1*A + 2*B <= 40   # Machine 1 constraint\n",
        "model += 2*A + 1*B <= 50   # Machine 2 constraint\n",
        "\n",
        "# Solve the problem\n",
        "model.solve()\n",
        "\n",
        "# Results\n",
        "print(f\"Status: {pulp.LpStatus[model.status]}\")\n",
        "print(f\"Produce {A.varValue} units of Product A\")\n",
        "print(f\"Produce {B.varValue} units of Product B\")\n",
        "print(f\"Maximum Profit: ${pulp.value(model.objective)}\")\n"
      ]
    },
    {
      "cell_type": "code",
      "source": [],
      "metadata": {
        "id": "QaHrys2JyVTq"
      },
      "execution_count": null,
      "outputs": []
    }
  ]
}